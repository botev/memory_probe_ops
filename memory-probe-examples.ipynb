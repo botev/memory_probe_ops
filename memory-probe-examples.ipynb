{
 "cells": [
  {
   "cell_type": "code",
   "execution_count": 1,
   "metadata": {
    "collapsed": true
   },
   "outputs": [],
   "source": [
    "import os\n",
    "os.environ[\"CUDA_DEVICE_ORDER\"] = \"PCI_BUS_ID\"\n",
    "os.environ[\"CUDA_VISIBLE_DEVICES\"] = \"0,1,2\"\n",
    "import tensorflow as tf"
   ]
  },
  {
   "cell_type": "markdown",
   "metadata": {},
   "source": [
    "## Download and load custom op extension"
   ]
  },
  {
   "cell_type": "code",
   "execution_count": 2,
   "metadata": {
    "collapsed": false
   },
   "outputs": [],
   "source": [
    "import urllib.request\n",
    "response = urllib.request.urlopen(\"https://raw.githubusercontent.com/yaroslavvb/memory_probe_ops/master/linux.memory_probe_ops.so\")\n",
    "open(\"memory_probe_ops.so\", \"wb\").write(response.read())\n",
    "memory_probe_ops = tf.load_op_library(\"./memory_probe_ops.so\")"
   ]
  },
  {
   "cell_type": "markdown",
   "metadata": {},
   "source": [
    "## Check memory before and after initializing variable"
   ]
  },
  {
   "cell_type": "code",
   "execution_count": 3,
   "metadata": {
    "collapsed": false
   },
   "outputs": [
    {
     "name": "stdout",
     "output_type": "stream",
     "text": [
      "Before init       1280 out of 12051264308 bytes\n",
      "After  init   67110656 out of 12051264308 bytes\n"
     ]
    }
   ],
   "source": [
    "sess = tf.InteractiveSession()\n",
    "with tf.device(\"/gpu:0\"):\n",
    "    probe_op = memory_probe_ops.bytes_in_use()\n",
    "    max_op = memory_probe_ops.bytes_limit()\n",
    "    mbs = 42\n",
    "    n = mbs*250000\n",
    "    inputs = tf.random_uniform((n,))\n",
    "\n",
    "    var = tf.Variable(inputs)\n",
    "    probe_op = memory_probe_ops.bytes_in_use()\n",
    "    max_op = memory_probe_ops.bytes_limit()\n",
    "    print(\"Before init %10d out of %10d bytes\" % tuple(sess.run([probe_op, max_op])))\n",
    "    sess.run(var.initializer)\n",
    "    print(\"After  init %10d out of %10d bytes\" % tuple(sess.run([probe_op, max_op])))"
   ]
  },
  {
   "cell_type": "markdown",
   "metadata": {},
   "source": [
    "## Probe memory on multiple GPUs "
   ]
  },
  {
   "cell_type": "markdown",
   "metadata": {},
   "source": [
    "Check that gpu:1 and gpu:2 memory are unaffected by variable initialized gpu:0 in previous cell"
   ]
  },
  {
   "cell_type": "code",
   "execution_count": 4,
   "metadata": {
    "collapsed": false
   },
   "outputs": [
    {
     "name": "stdout",
     "output_type": "stream",
     "text": [
      "gpu:1 bytes 1280, gpu:2 bytes 1280\n"
     ]
    }
   ],
   "source": [
    "with tf.device(\"/gpu:1\"):\n",
    "    probe_op_gpu1 = memory_probe_ops.bytes_in_use()\n",
    "with tf.device(\"/gpu:2\"):\n",
    "    probe_op_gpu2 = memory_probe_ops.bytes_in_use()\n",
    "print(\"gpu:1 bytes %d, gpu:2 bytes %d\" % tuple(sess.run([probe_op_gpu1, probe_op_gpu2])))"
   ]
  },
  {
   "cell_type": "markdown",
   "metadata": {},
   "source": [
    "## Probe memory within single step"
   ]
  },
  {
   "cell_type": "markdown",
   "metadata": {},
   "source": [
    "You can probe memory during step execution by using control dependencies to control when probe gets executed. Here's an example of tracing a computation that needs up to 100MB for the first half of computation, and then 50MB for the rest"
   ]
  },
  {
   "cell_type": "code",
   "execution_count": 5,
   "metadata": {
    "collapsed": false
   },
   "outputs": [
    {
     "data": {
      "text/plain": [
       "[<matplotlib.lines.Line2D at 0x7fb298038fd0>]"
      ]
     },
     "execution_count": 5,
     "metadata": {},
     "output_type": "execute_result"
    },
    {
     "data": {
      "image/png": "[encoded data removed]",
      "text/plain": [
       "<matplotlib.figure.Figure at 0x7fb2d00a8630>"
      ]
     },
     "metadata": {},
     "output_type": "display_data"
    }
   ],
   "source": [
    "%matplotlib inline\n",
    "import matplotlib.pyplot as plt\n",
    "\n",
    "# makes chain of ops\n",
    "def make_chain(length, mbs_per_node):\n",
    "    n = mbs_per_node*250000\n",
    "    node0 = tf.random_uniform((n,))\n",
    "    node = node0\n",
    "    probes = []\n",
    "    nodes = [node]\n",
    "    for i in range(length):\n",
    "        with tf.control_dependencies([node]):\n",
    "            probe = memory_probe_ops.bytes_in_use()\n",
    "        probes.append(probe)\n",
    "        with tf.control_dependencies([probe]):\n",
    "            leaf = tf.random_uniform((n,))\n",
    "            if i < length//2:\n",
    "                node = tf.add_n(nodes+[leaf])\n",
    "            else:\n",
    "                node = tf.add_n(nodes[-length//4:]+[leaf])\n",
    "        nodes.append(node)\n",
    "    return nodes, probes\n",
    "\n",
    "tf.reset_default_graph()\n",
    "sess = tf.InteractiveSession()\n",
    "with tf.device(\"/gpu:0\"):\n",
    "    nodes, probes = make_chain(20, 10)\n",
    "_, probes0 = sess.run([nodes[-1], probes])\n",
    "plt.plot(probes0)"
   ]
  }
 ],
 "metadata": {
  "anaconda-cloud": {},
  "kernelspec": {
   "display_name": "Python [conda env:tim-jan17]",
   "language": "python",
   "name": "conda-env-tim-jan17-py"
  },
  "language_info": {
   "codemirror_mode": {
    "name": "ipython",
    "version": 3
   },
   "file_extension": ".py",
   "mimetype": "text/x-python",
   "name": "python",
   "nbconvert_exporter": "python",
   "pygments_lexer": "ipython3",
   "version": "3.5.2"
  },
  "toc": {
   "colors": {
    "hover_highlight": "#DAA520",
    "running_highlight": "#FF0000",
    "selected_highlight": "#FFD700"
   },
   "moveMenuLeft": true,
   "nav_menu": {
    "height": "84px",
    "width": "252px"
   },
   "navigate_menu": true,
   "number_sections": false,
   "sideBar": true,
   "threshold": 4,
   "toc_cell": false,
   "toc_section_display": "block",
   "toc_window_display": false
  }
 },
 "nbformat": 4,
 "nbformat_minor": 1
}
